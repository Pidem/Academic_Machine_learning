{
 "cells": [
  {
   "cell_type": "code",
   "execution_count": null,
   "metadata": {
    "collapsed": true
   },
   "outputs": [],
   "source": [
    "# For comments, look at the wiki tab on this project\n",
    "\n",
    "from selenium import webdriver\n",
    "import time\n",
    "import os\n",
    "from selenium.webdriver.common.keys import Keys\n",
    "\n",
    "browser=webdriver.Chrome\n",
    "os.environ[\"webdriver.chrome.driver\"] = chromedriver\n",
    "driver = webdriver.Chrome(chromedriver)\n",
    "driver.get(\"https:/facebook.com\")\n",
    "time.sleep(4)\n",
    "elem = driver.find_element_by_id(\"email\")\n",
    "elem.send_keys(\"XXXX@facebook.com\")\n",
    "elem = driver.find_element_by_id(\"pass\")\n",
    "elem.send_keys(\"XXXXX\")\n",
    "elem.send_keys(Keys.RETURN)\n",
    "time.sleep(5)\n",
    "\n",
    "driver.get(\"https://www.facebook.com/firstname.lastname/friends?source_ref=pb_friends_tl\")\n",
    "\n",
    "for i in range(10):\n",
    "    driver.execute_script(\"window.scrollTo(0, 5000)\")\n",
    "time.sleep(1)\n",
    "\n",
    "pattern=\"friends_tab.>.?.?.?.?.?.?.?.?.?.?.?.?.?.?.?.?.?.?.?.?.?.?.?.?.?.?.?.?.?.?</a>\"\n",
    "regex=re.compile(pattern)\n",
    "friends=regex.findall(string)\n",
    "\n",
    "friends_first=friends\n",
    "for i in range(len(friends_first)):\n",
    "    friends_first[i]=friends_first[i][13:-4]\n",
    "    friends_first[i]=friends_first[i].rsplit(' ',3)[0]\n",
    "    friends_first[i]=friends_first[i].upper()\n",
    "    \n",
    "male=0\n",
    "female=0\n",
    "unknown=list()\n",
    "\n",
    "for friend in friends:\n",
    "    try:\n",
    "        if name_list[friend.upper()]==\"f\":\n",
    "            female+=1\n",
    "        elif name_list[friend.upper()]==\"m\":\n",
    "            male+=1\n",
    "        else:\n",
    "            unknown.append(friend.upper())\n",
    "    except:\n",
    "        unknown.append(friend.upper())\n",
    "       \n",
    "\n",
    "    for name in unknown:\n",
    "    print(\"I unfortunately don't know all names, please help me.Is {} a f or m ?\".format(name))\n",
    "    sex=input(\"Enter f or m\")\n",
    "    name_list[name]=sex"
   ]
  }
 ],
 "metadata": {
  "kernelspec": {
   "display_name": "Python [Root]",
   "language": "python",
   "name": "Python [Root]"
  },
  "language_info": {
   "codemirror_mode": {
    "name": "ipython",
    "version": 3
   },
   "file_extension": ".py",
   "mimetype": "text/x-python",
   "name": "python",
   "nbconvert_exporter": "python",
   "pygments_lexer": "ipython3",
   "version": "3.5.2"
  }
 },
 "nbformat": 4,
 "nbformat_minor": 2
}
